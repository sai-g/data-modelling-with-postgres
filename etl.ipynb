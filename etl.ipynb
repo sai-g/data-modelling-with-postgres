{
  "cells": [
    {
      "cell_type": "markdown",
      "metadata": {
        "pycharm": {}
      },
      "source": [
        "# ETL Processes\n",
        "Use this notebook to develop the ETL process for each of your tables before completing the `etl.py` file to load the whole datasets."
      ]
    },
    {
      "cell_type": "code",
      "execution_count": null,
      "metadata": {
        "pycharm": {}
      },
      "outputs": [],
      "source": [
        "import os\n",
        "import glob\n",
        "import psycopg2\n",
        "import pandas as pd\n",
        "from sql_queries import *"
      ]
    },
    {
      "cell_type": "code",
      "execution_count": null,
      "metadata": {
        "pycharm": {}
      },
      "outputs": [],
      "source": [
        "conn \u003d psycopg2.connect(\"host\u003d127.0.0.1 dbname\u003dsparkifydb user\u003dstudent password\u003dstudent\")\n",
        "cur \u003d conn.cursor()"
      ]
    },
    {
      "cell_type": "code",
      "execution_count": null,
      "metadata": {
        "pycharm": {}
      },
      "outputs": [],
      "source": [
        "def get_files(filepath):\n",
        "    all_files \u003d []\n",
        "    for root, dirs, files in os.walk(filepath):\n",
        "        files \u003d glob.glob(os.path.join(root,\u0027*.json\u0027))\n",
        "        for f in files :\n",
        "            all_files.append(os.path.abspath(f))\n",
        "    \n",
        "    return all_files"
      ]
    },
    {
      "cell_type": "markdown",
      "metadata": {
        "pycharm": {}
      },
      "source": [
        "# Process `song_data`\n",
        "In this first part, you\u0027ll perform ETL on the first dataset, `song_data`, to create the `songs` and `artists` dimensional tables.\n",
        "\n",
        "Let\u0027s perform ETL on a single song file and load a single record into each table to start.\n",
        "- Use the `get_files` function provided above to get a list of all song JSON files in `data/song_data`\n",
        "- Select the first song in this list\n",
        "- Read the song file and view the data"
      ]
    },
    {
      "cell_type": "code",
      "execution_count": null,
      "metadata": {
        "pycharm": {}
      },
      "outputs": [],
      "source": "song_files \u003d get_files(\"data/song_data\")"
    },
    {
      "cell_type": "code",
      "execution_count": null,
      "metadata": {
        "pycharm": {}
      },
      "outputs": [],
      "source": "filepath \u003d song_files[0]"
    },
    {
      "cell_type": "code",
      "execution_count": null,
      "metadata": {
        "pycharm": {}
      },
      "outputs": [],
      "source": "df \u003d pd.read_json(filepath, typ\u003d\u0027series\u0027)\ndf.head()"
    },
    {
      "cell_type": "markdown",
      "metadata": {
        "pycharm": {}
      },
      "source": [
        "## #1: `songs` Table\n",
        "#### Extract Data for Songs Table\n",
        "- Select columns for song ID, title, artist ID, year, and duration\n",
        "- Use `df.values` to select just the values from the dataframe\n",
        "- Index to select the first (only) record in the dataframe\n",
        "- Convert the array to a list and set it to `song_data`"
      ]
    },
    {
      "cell_type": "code",
      "execution_count": null,
      "metadata": {
        "pycharm": {}
      },
      "outputs": [],
      "source": "song_data \u003d df.filter(items\u003d[\u0027song_id\u0027, \u0027title\u0027, \u0027artist_id\u0027, \u0027year\u0027, \u0027duration\u0027]).values.tolist()\nsong_data"
    },
    {
      "cell_type": "markdown",
      "metadata": {
        "pycharm": {}
      },
      "source": [
        "#### Insert Record into Song Table\n",
        "Implement the `song_table_insert` query in `sql_queries.py` and run the cell below to insert a record for this song into the `songs` table. Remember to run `create_tables.py` before running the cell below to ensure you\u0027ve created/resetted the `songs` table in the sparkify database."
      ]
    },
    {
      "cell_type": "code",
      "execution_count": null,
      "metadata": {
        "pycharm": {}
      },
      "outputs": [],
      "source": [
        "cur.execute(song_table_insert, song_data)\n",
        "conn.commit()"
      ]
    },
    {
      "cell_type": "markdown",
      "metadata": {
        "pycharm": {}
      },
      "source": [
        "Run `test.ipynb` to see if you\u0027ve successfully added a record to this table."
      ]
    },
    {
      "cell_type": "markdown",
      "metadata": {
        "pycharm": {}
      },
      "source": [
        "## #2: `artists` Table\n",
        "#### Extract Data for Artists Table\n",
        "- Select columns for artist ID, name, location, latitude, and longitude\n",
        "- Use `df.values` to select just the values from the dataframe\n",
        "- Index to select the first (only) record in the dataframe\n",
        "- Convert the array to a list and set it to `artist_data`"
      ]
    },
    {
      "cell_type": "code",
      "execution_count": null,
      "metadata": {
        "pycharm": {}
      },
      "outputs": [],
      "source": "artist_data \u003d df.filter(\n        items\u003d[\u0027artist_id\u0027, \u0027artist_name\u0027, \u0027artist_location\u0027, \u0027artist_latitude\u0027, \u0027artist_longitude\u0027]).values.tolist()\nartist_data"
    },
    {
      "cell_type": "markdown",
      "metadata": {
        "pycharm": {}
      },
      "source": [
        "#### Insert Record into Artist Table\n",
        "Implement the `artist_table_insert` query in `sql_queries.py` and run the cell below to insert a record for this song\u0027s artist into the `artists` table. Remember to run `create_tables.py` before running the cell below to ensure you\u0027ve created/resetted the `artists` table in the sparkify database."
      ]
    },
    {
      "cell_type": "code",
      "execution_count": null,
      "metadata": {
        "pycharm": {}
      },
      "outputs": [],
      "source": [
        "cur.execute(artist_table_insert, artist_data)\n",
        "conn.commit()"
      ]
    },
    {
      "cell_type": "markdown",
      "metadata": {
        "pycharm": {}
      },
      "source": [
        "Run `test.ipynb` to see if you\u0027ve successfully added a record to this table."
      ]
    },
    {
      "cell_type": "markdown",
      "metadata": {
        "pycharm": {}
      },
      "source": [
        "# Process `log_data`\n",
        "In this part, you\u0027ll perform ETL on the second dataset, `log_data`, to create the `time` and `users` dimensional tables, as well as the `songplays` fact table.\n",
        "\n",
        "Let\u0027s perform ETL on a single log file and load a single record into each table.\n",
        "- Use the `get_files` function provided above to get a list of all log JSON files in `data/log_data`\n",
        "- Select the first log file in this list\n",
        "- Read the log file and view the data"
      ]
    },
    {
      "cell_type": "code",
      "execution_count": null,
      "metadata": {
        "pycharm": {}
      },
      "outputs": [],
      "source": "log_files \u003d get_files(\"data/log_data\")"
    },
    {
      "cell_type": "code",
      "execution_count": 1,
      "metadata": {
        "pycharm": {
          "is_executing": false
        }
      },
      "outputs": [
        {
          "traceback": [
            "\u001b[0;31m---------------------------------------------------------------------------\u001b[0m",
            "\u001b[0;31mNameError\u001b[0m                                 Traceback (most recent call last)",
            "\u001b[0;32m\u003cipython-input-1-cc33d1e20127\u003e\u001b[0m in \u001b[0;36m\u003cmodule\u003e\u001b[0;34m\u001b[0m\n\u001b[0;32m----\u003e 1\u001b[0;31m \u001b[0mfilepath\u001b[0m \u001b[0;34m\u003d\u001b[0m \u001b[0mlog_files\u001b[0m\u001b[0;34m[\u001b[0m\u001b[0;36m0\u001b[0m\u001b[0;34m]\u001b[0m\u001b[0;34m\u001b[0m\u001b[0m\n\u001b[0m",
            "\u001b[0;31mNameError\u001b[0m: name \u0027log_files\u0027 is not defined"
          ],
          "ename": "NameError",
          "evalue": "name \u0027log_files\u0027 is not defined",
          "output_type": "error"
        }
      ],
      "source": "filepath \u003d log_files[0]"
    },
    {
      "cell_type": "code",
      "execution_count": null,
      "metadata": {
        "pycharm": {}
      },
      "outputs": [],
      "source": "df \u003d pd.read_json(filepath, lines\u003dTrue)\ndf.head()"
    },
    {
      "cell_type": "markdown",
      "metadata": {
        "pycharm": {}
      },
      "source": [
        "## #3: `time` Table\n",
        "#### Extract Data for Time Table\n",
        "- Filter records by `NextSong` action\n",
        "- Convert the `ts` timestamp column to datetime\n",
        "  - Hint: the current timestamp is in milliseconds\n",
        "- Extract the timestamp, hour, day, week of year, month, year, and weekday from the `ts` column and set `time_data` to a list containing these values in order\n",
        "  - Hint: use pandas\u0027 [`dt` attribute](https://pandas.pydata.org/pandas-docs/stable/reference/api/pandas.Series.dt.html) to access easily datetimelike properties.\n",
        "- Specify labels for these columns and set to `column_labels`\n",
        "- Create a dataframe, `time_df,` containing the time data for this file by combining `column_labels` and `time_data` into a dictionary and converting this into a dataframe"
      ]
    },
    {
      "cell_type": "code",
      "execution_count": null,
      "metadata": {
        "pycharm": {}
      },
      "outputs": [],
      "source": "df \u003d df.loc[df[\u0027page\u0027] \u003d\u003d \u0027NextSong\u0027]\ndf[\u0027timestamp\u0027] \u003d pd.to_datetime(df[\u0027ts\u0027], unit\u003d\u0027ms\u0027)\ndf.head()"
    },
    {
      "cell_type": "code",
      "execution_count": null,
      "metadata": {
        "pycharm": {}
      },
      "outputs": [],
      "source": "t \u003d pd.to_datetime(df[\u0027ts\u0027], unit\u003d\u0027ms\u0027)\nt.head()"
    },
    {
      "cell_type": "code",
      "execution_count": null,
      "metadata": {
        "pycharm": {}
      },
      "outputs": [],
      "source": "time_data \u003d list((df.timestamp.tolist(), t.dt.hour.tolist(), t.dt.day.tolist(), t.dt.week.tolist(),\n                      t.dt.month.tolist(), t.dt.year.tolist(), t.dt.weekday_name.tolist()))\ncolumn_labels \u003d [\u0027start_ts\u0027, \u0027hour\u0027, \u0027day\u0027, \u0027week\u0027, \u0027month\u0027, \u0027year\u0027, \u0027weekday\u0027]"
    },
    {
      "cell_type": "code",
      "execution_count": null,
      "metadata": {
        "pycharm": {}
      },
      "outputs": [],
      "source": "time_df \u003d pd.DataFrame.from_dict(dict(zip(column_labels, time_data)))\ntime_df.head()"
    },
    {
      "cell_type": "markdown",
      "metadata": {
        "pycharm": {}
      },
      "source": [
        "#### Insert Records into Time Table\n",
        "Implement the `time_table_insert` query in `sql_queries.py` and run the cell below to insert records for the timestamps in this log file into the `time` table. Remember to run `create_tables.py` before running the cell below to ensure you\u0027ve created/resetted the `time` table in the sparkify database."
      ]
    },
    {
      "cell_type": "code",
      "execution_count": null,
      "metadata": {
        "pycharm": {}
      },
      "outputs": [],
      "source": [
        "for i, row in time_df.iterrows():\n",
        "    cur.execute(time_table_insert, list(row))\n",
        "    conn.commit()"
      ]
    },
    {
      "cell_type": "markdown",
      "metadata": {
        "pycharm": {}
      },
      "source": [
        "Run `test.ipynb` to see if you\u0027ve successfully added records to this table."
      ]
    },
    {
      "cell_type": "markdown",
      "metadata": {
        "pycharm": {}
      },
      "source": [
        "## #4: `users` Table\n",
        "#### Extract Data for Users Table\n",
        "- Select columns for user ID, first name, last name, gender and level and set to `user_df`"
      ]
    },
    {
      "cell_type": "code",
      "execution_count": null,
      "metadata": {
        "pycharm": {}
      },
      "outputs": [],
      "source": "user_df \u003d df[[\u0027userId\u0027, \u0027firstName\u0027, \u0027lastName\u0027, \u0027gender\u0027, \u0027level\u0027]]"
    },
    {
      "cell_type": "markdown",
      "metadata": {
        "pycharm": {}
      },
      "source": [
        "#### Insert Records into Users Table\n",
        "Implement the `user_table_insert` query in `sql_queries.py` and run the cell below to insert records for the users in this log file into the `users` table. Remember to run `create_tables.py` before running the cell below to ensure you\u0027ve created/resetted the `users` table in the sparkify database."
      ]
    },
    {
      "cell_type": "code",
      "execution_count": null,
      "metadata": {
        "pycharm": {}
      },
      "outputs": [],
      "source": [
        "for i, row in user_df.iterrows():\n",
        "    cur.execute(user_table_insert, row)\n",
        "    conn.commit()"
      ]
    },
    {
      "cell_type": "markdown",
      "metadata": {
        "pycharm": {}
      },
      "source": [
        "Run `test.ipynb` to see if you\u0027ve successfully added records to this table."
      ]
    },
    {
      "cell_type": "markdown",
      "metadata": {
        "pycharm": {}
      },
      "source": [
        "## #5: `songplays` Table\n",
        "#### Extract Data and Songplays Table\n",
        "This one is a little more complicated since information from the songs table, artists table, and original log file are all needed for the `songplays` table. Since the log file does not specify an ID for either the song or the artist, you\u0027ll need to get the song ID and artist ID by querying the songs and artists tables to find matches based on song title, artist name, and song duration time.\n",
        "- Implement the `song_select` query in `sql_queries.py` to find the song ID and artist ID based on the title, artist name, and duration of a song.\n",
        "- Select the timestamp, user ID, level, song ID, artist ID, session ID, location, and user agent and set to `songplay_data`\n",
        "\n",
        "#### Insert Records into Songplays Table\n",
        "- Implement the `songplay_table_insert` query and run the cell below to insert records for the songplay actions in this log file into the `songplays` table. Remember to run `create_tables.py` before running the cell below to ensure you\u0027ve created/resetted the `songplays` table in the sparkify database."
      ]
    },
    {
      "cell_type": "code",
      "execution_count": null,
      "metadata": {
        "pycharm": {}
      },
      "outputs": [],
      "source": [
        "for index, row in df.iterrows():\n",
        "\n",
        "    # get songid and artistid from song and artist tables\n",
        "    results \u003d cur.execute(song_select, (row.song, row.artist, row.length))\n",
        "    songid, artistid \u003d results if results else None, None\n",
        "\n",
        "    # insert songplay record\n",
        "    songplay_data \u003d ()\n",
        "    cur.execute(songplay_table_insert, songplay_data)\n",
        "    conn.commit()"
      ]
    },
    {
      "cell_type": "markdown",
      "metadata": {
        "pycharm": {}
      },
      "source": [
        "Run `test.ipynb` to see if you\u0027ve successfully added records to this table."
      ]
    },
    {
      "cell_type": "markdown",
      "metadata": {
        "pycharm": {}
      },
      "source": [
        "# Close Connection to Sparkify Database"
      ]
    },
    {
      "cell_type": "code",
      "execution_count": null,
      "metadata": {
        "pycharm": {}
      },
      "outputs": [],
      "source": [
        "conn.close()"
      ]
    },
    {
      "cell_type": "markdown",
      "metadata": {
        "pycharm": {}
      },
      "source": [
        "# Implement `etl.py`\n",
        "Use what you\u0027ve completed in this notebook to implement `etl.py`."
      ]
    },
    {
      "cell_type": "code",
      "execution_count": null,
      "metadata": {
        "pycharm": {}
      },
      "outputs": [],
      "source": []
    }
  ],
  "metadata": {
    "kernelspec": {
      "display_name": "Python 3",
      "language": "python",
      "name": "python3"
    },
    "language_info": {
      "codemirror_mode": {
        "name": "ipython",
        "version": 3
      },
      "file_extension": ".py",
      "mimetype": "text/x-python",
      "name": "python",
      "nbconvert_exporter": "python",
      "pygments_lexer": "ipython3",
      "version": "3.6.3"
    }
  },
  "nbformat": 4,
  "nbformat_minor": 2
}